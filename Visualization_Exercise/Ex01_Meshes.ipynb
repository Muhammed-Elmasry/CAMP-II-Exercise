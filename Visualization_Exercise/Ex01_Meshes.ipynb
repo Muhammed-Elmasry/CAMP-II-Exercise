{
 "cells": [
  {
   "cell_type": "markdown",
   "metadata": {},
   "source": [
    "# The VTK Basics"
   ]
  },
  {
   "cell_type": "markdown",
   "metadata": {},
   "source": [
    "## Basic Classes"
   ]
  },
  {
   "cell_type": "markdown",
   "metadata": {},
   "source": [
    "The VTK rendering pipeline consists of three main components:\n",
    " - `vtkRenderWindow`: Represents the actual window\n",
    " - `vtkRenderWindowInteractor`: Handles input events and reacts (mouse interaction etc.)\n",
    " - `vtkRenderer`: Renders a collection of `vtkActor`s to an output window"
   ]
  },
  {
   "cell_type": "code",
   "execution_count": 1,
   "metadata": {},
   "outputs": [],
   "source": [
    "import vtk"
   ]
  },
  {
   "cell_type": "code",
   "execution_count": 2,
   "metadata": {},
   "outputs": [],
   "source": [
    "renderer = vtk.vtkRenderer()\n",
    "renderWindow = vtk.vtkRenderWindow()\n",
    "renderWindow.AddRenderer(renderer)"
   ]
  },
  {
   "cell_type": "code",
   "execution_count": 3,
   "metadata": {},
   "outputs": [],
   "source": [
    "interactor = vtk.vtkRenderWindowInteractor()\n",
    "interactor.SetRenderWindow(renderWindow)"
   ]
  },
  {
   "cell_type": "code",
   "execution_count": 4,
   "metadata": {},
   "outputs": [],
   "source": [
    "interactor.Initialize()\n",
    "interactor.Start()"
   ]
  },
  {
   "cell_type": "markdown",
   "metadata": {},
   "source": [
    "This should give us an interactive render window"
   ]
  },
  {
   "cell_type": "markdown",
   "metadata": {},
   "source": [
    "Re-running the render window after closing it causes deadlocks.\n",
    "However, a new render window can use the same renderer.\n",
    "\n",
    "**However, VTK and PyVTK do not actually work too well with Jupyter Notebooks.**\n",
    "If you run above cell again after closing the window, the kernel will freeze! You will need to create a new `Interactor` and `RenderWindow` if you want to re-run something!"
   ]
  },
  {
   "cell_type": "code",
   "execution_count": 5,
   "metadata": {},
   "outputs": [],
   "source": [
    "renderWindow2 = vtk.vtkRenderWindow()\n",
    "renderWindow2.AddRenderer(renderer)\n",
    "interactor2 = vtk.vtkRenderWindowInteractor()\n",
    "interactor2.SetRenderWindow(renderWindow2)\n",
    "interactor2.Initialize()\n",
    "interactor2.Start()"
   ]
  },
  {
   "cell_type": "markdown",
   "metadata": {},
   "source": [
    "So let's refactor this into a method so we can reuse this"
   ]
  },
  {
   "cell_type": "code",
   "execution_count": 6,
   "metadata": {},
   "outputs": [],
   "source": [
    "def show_renderer(renderer:vtk.vtkRenderer, size=(800, 600)):\n",
    "    renderWindow = vtk.vtkRenderWindow()\n",
    "    renderWindow.AddRenderer(renderer)\n",
    "    renderWindow.SetSize(size)\n",
    "    interactor = vtk.vtkRenderWindowInteractor()\n",
    "    interactor.SetRenderWindow(renderWindow)\n",
    "    interactor.Initialize()\n",
    "    interactor.Start()"
   ]
  },
  {
   "cell_type": "markdown",
   "metadata": {},
   "source": [
    "Now we can re-run the method any number of times!"
   ]
  },
  {
   "cell_type": "code",
   "execution_count": 7,
   "metadata": {},
   "outputs": [],
   "source": [
    "show_renderer(renderer)"
   ]
  },
  {
   "cell_type": "markdown",
   "metadata": {},
   "source": [
    "The renderer has a list of objects to render.\n",
    "\n",
    "Renderer objects (vtkProps) can either be actors (e.g. meshes) or volumes."
   ]
  },
  {
   "cell_type": "code",
   "execution_count": 8,
   "metadata": {},
   "outputs": [],
   "source": [
    "cubeActor = vtk.vtkActor()\n",
    "renderer.AddActor(cubeActor)"
   ]
  },
  {
   "cell_type": "code",
   "execution_count": 9,
   "metadata": {},
   "outputs": [],
   "source": [
    "show_renderer(renderer)"
   ]
  },
  {
   "cell_type": "code",
   "execution_count": null,
   "metadata": {},
   "outputs": [],
   "source": []
  },
  {
   "cell_type": "code",
   "execution_count": null,
   "metadata": {},
   "outputs": [],
   "source": []
  },
  {
   "cell_type": "markdown",
   "metadata": {},
   "source": [
    "## Rendering Meshes\n",
    "In order to actually render things, we need two additional things:\n",
    " - A `vtkCamera` to set the virtual viewpoint\n",
    " - A number of `vtkProp`s which encapsulate the objects to be rendered"
   ]
  },
  {
   "cell_type": "code",
   "execution_count": 10,
   "metadata": {},
   "outputs": [],
   "source": [
    "Camera = vtk.vtkCamera()\n",
    "Camera.SetViewUp(0, 0, -1)\n",
    "Camera.SetPosition(0, -1, 0)\n",
    "Camera.SetFocalPoint(0.5, 0.5, 0.5)\n",
    "Camera.ComputeViewPlaneNormal()\n",
    "Camera.Azimuth(30.0)\n",
    "Camera.Elevation(30.0)"
   ]
  },
  {
   "cell_type": "code",
   "execution_count": 11,
   "metadata": {},
   "outputs": [],
   "source": [
    "cubeActor = vtk.vtkActor()"
   ]
  },
  {
   "cell_type": "code",
   "execution_count": 12,
   "metadata": {},
   "outputs": [],
   "source": [
    "renderer.AddActor(cubeActor)\n",
    "show_renderer(renderer)"
   ]
  },
  {
   "cell_type": "code",
   "execution_count": null,
   "metadata": {},
   "outputs": [],
   "source": []
  },
  {
   "cell_type": "code",
   "execution_count": null,
   "metadata": {},
   "outputs": [],
   "source": []
  },
  {
   "cell_type": "code",
   "execution_count": null,
   "metadata": {},
   "outputs": [],
   "source": []
  },
  {
   "cell_type": "code",
   "execution_count": null,
   "metadata": {},
   "outputs": [],
   "source": []
  },
  {
   "cell_type": "code",
   "execution_count": null,
   "metadata": {},
   "outputs": [],
   "source": []
  },
  {
   "cell_type": "code",
   "execution_count": null,
   "metadata": {},
   "outputs": [],
   "source": []
  },
  {
   "cell_type": "markdown",
   "metadata": {},
   "source": [
    "Still nothing! That's because the cubeActor does not have any data yet!\n",
    "\n",
    "To create data to render, we need to define:\n",
    "\n",
    "- vertex table\n",
    "- face table (defining triangles by connecting vertices)"
   ]
  },
  {
   "cell_type": "code",
   "execution_count": 13,
   "metadata": {},
   "outputs": [],
   "source": [
    "def makeVtkIdList(it)->vtk.vtkIdList:\n",
    "    vil = vtk.vtkIdList()\n",
    "    for i in it:\n",
    "        vil.InsertNextId(int(i))\n",
    "    return vil\n",
    "\n",
    "def make_cube()->vtk.vtkPolyData:\n",
    "    x = [(0.0, 0.0, 0.0), (1.0, 0.0, 0.0), (1.0, 1.0, 0.0), (0.0, 1.0, 0.0),\n",
    "         (0.0, 0.0, 1.0), (1.0, 0.0 ,1.0), (1.0, 1.0, 1.0), (0.0, 1.0, 1.0)]\n",
    "\n",
    "    # pts = array of 6 4-tuples of vtkIdType (int) representing the faces\n",
    "    #     of the cube in terms of the above vertices\n",
    "    faces = [(0,1,2,3), (4,5,6,7), (0,1,5,4),\n",
    "           (1,2,6,5), (2,3,7,6), (3,0,4,7)]\n",
    "\n",
    "    # We'll create the building blocks of polydata including data attributes.\n",
    "    # Load the point, cell, and data attributes.\n",
    "    points = vtk.vtkPoints()\n",
    "    for i,p in enumerate(x):       points.InsertPoint(i, p)\n",
    "    \n",
    "    polys = vtk.vtkCellArray()\n",
    "    for f in faces: polys.InsertNextCell( makeVtkIdList(f) )\n",
    "\n",
    "    # We now assign the pieces to the vtkPolyData.\n",
    "    cube = vtk.vtkPolyData()\n",
    "    cube.SetPoints(points)\n",
    "    cube.SetPolys(polys)\n",
    "    return cube"
   ]
  },
  {
   "cell_type": "markdown",
   "metadata": {},
   "source": [
    "Allright so let's create the cube data!"
   ]
  },
  {
   "cell_type": "code",
   "execution_count": 14,
   "metadata": {},
   "outputs": [],
   "source": [
    "cube = make_cube()"
   ]
  },
  {
   "cell_type": "markdown",
   "metadata": {
    "tags": []
   },
   "source": [
    "The poly data is just the abstract representation of the data on the CPU.\n",
    "\n",
    "To actually associate the data with the actor, it needs to be *mapped* - this means that the data is mapped to the GPU memory. \n",
    "\n",
    "`vtkPolyDataMapper` takes care of that for polygonal data types (meshes):"
   ]
  },
  {
   "cell_type": "code",
   "execution_count": 15,
   "metadata": {},
   "outputs": [],
   "source": [
    "cubeMapper = vtk.vtkPolyDataMapper()\n",
    "cubeMapper.SetInputData(cube)"
   ]
  },
  {
   "cell_type": "markdown",
   "metadata": {},
   "source": [
    "Now we can associate the data with the actor by setting the mapper!"
   ]
  },
  {
   "cell_type": "code",
   "execution_count": 16,
   "metadata": {},
   "outputs": [],
   "source": [
    "cubeActor.SetMapper(cubeMapper)"
   ]
  },
  {
   "cell_type": "markdown",
   "metadata": {},
   "source": [
    "While we're at it set a background color"
   ]
  },
  {
   "cell_type": "code",
   "execution_count": 17,
   "metadata": {},
   "outputs": [],
   "source": [
    "renderer.SetBackground(vtk.vtkNamedColors().GetColor3d('White')) "
   ]
  },
  {
   "cell_type": "markdown",
   "metadata": {},
   "source": [
    "Finally, we can see our wonderful cube!"
   ]
  },
  {
   "cell_type": "code",
   "execution_count": 18,
   "metadata": {},
   "outputs": [],
   "source": [
    "show_renderer(renderer)"
   ]
  },
  {
   "cell_type": "code",
   "execution_count": null,
   "metadata": {},
   "outputs": [],
   "source": []
  },
  {
   "cell_type": "code",
   "execution_count": null,
   "metadata": {},
   "outputs": [],
   "source": []
  },
  {
   "cell_type": "code",
   "execution_count": null,
   "metadata": {},
   "outputs": [],
   "source": []
  },
  {
   "cell_type": "code",
   "execution_count": null,
   "metadata": {},
   "outputs": [],
   "source": []
  },
  {
   "cell_type": "code",
   "execution_count": null,
   "metadata": {},
   "outputs": [],
   "source": []
  },
  {
   "cell_type": "markdown",
   "metadata": {},
   "source": [
    "## This is going to be tedious.. or is it??"
   ]
  },
  {
   "cell_type": "code",
   "execution_count": 19,
   "metadata": {},
   "outputs": [],
   "source": [
    "import pyvista as pv\n",
    "import numpy as np\n",
    "from pyvistaqt import BackgroundPlotter"
   ]
  },
  {
   "cell_type": "code",
   "execution_count": 24,
   "metadata": {},
   "outputs": [],
   "source": [
    "wnd = BackgroundPlotter()"
   ]
  },
  {
   "cell_type": "markdown",
   "metadata": {},
   "source": [
    "See https://docs.pyvista.org/examples/00-load/create-poly.html"
   ]
  },
  {
   "cell_type": "code",
   "execution_count": 21,
   "metadata": {},
   "outputs": [],
   "source": [
    "# mesh points\n",
    "vertices = np.array([[0, 0, 0],\n",
    "                     [1, 0, 0],\n",
    "                     [1, 1, 0],\n",
    "                     [0, 1, 0],\n",
    "                     [0.5, 0.5, -1]])\n",
    "\n",
    "# mesh faces\n",
    "faces = np.hstack([[4, 0, 1, 2, 3],  # square\n",
    "                   [3, 0, 1, 4],     # triangle\n",
    "                   [3, 1, 2, 4]])    # triangle\n",
    "\n",
    "surf = pv.PolyData(vertices, faces)"
   ]
  },
  {
   "cell_type": "code",
   "execution_count": 25,
   "metadata": {},
   "outputs": [
    {
     "data": {
      "text/plain": [
       "(vtkmodules.vtkRenderingOpenGL2.vtkOpenGLActor)0x7f77eb359dc0"
      ]
     },
     "execution_count": 25,
     "metadata": {},
     "output_type": "execute_result"
    }
   ],
   "source": [
    "wnd.add_mesh(surf)"
   ]
  },
  {
   "cell_type": "code",
   "execution_count": 26,
   "metadata": {},
   "outputs": [
    {
     "data": {
      "text/plain": [
       "((vtkmodules.vtkRenderingOpenGL2.vtkOpenGLActor)0x7f77e5ba5d00,\n",
       " (vtkmodules.vtkRenderingOpenGL2.vtkOpenGLProperty)0x7f77e919ca00)"
      ]
     },
     "execution_count": 26,
     "metadata": {},
     "output_type": "execute_result"
    }
   ],
   "source": [
    "wnd.add_actor(cubeActor)"
   ]
  },
  {
   "cell_type": "markdown",
   "metadata": {},
   "source": [
    "## Let's go for something volumetric!"
   ]
  },
  {
   "cell_type": "code",
   "execution_count": 24,
   "metadata": {},
   "outputs": [],
   "source": [
    "vol_data,_,_ = np.meshgrid(np.linspace(0.0, 0.7, 128), np.linspace(0.0, 1.0, 128), np.linspace(0.0, 1.0, 128))\n",
    "vol_data = vol_data ** 2"
   ]
  },
  {
   "cell_type": "code",
   "execution_count": 25,
   "metadata": {},
   "outputs": [],
   "source": [
    "vol_data[30:50,40:60,30:50] = 0.5 # a cube\n",
    "vol_data[30:50,20:80,75:85] = 0.3 # another cube\n",
    "vol_data[20:30,50:60,60:70] = 0.2"
   ]
  },
  {
   "cell_type": "code",
   "execution_count": 26,
   "metadata": {},
   "outputs": [],
   "source": [
    "vol_actor = wnd.add_volume(vol_data, clim=(0.1, 0.6))"
   ]
  },
  {
   "cell_type": "code",
   "execution_count": null,
   "metadata": {},
   "outputs": [],
   "source": []
  }
 ],
 "metadata": {
  "kernelspec": {
   "display_name": "Python 3 (ipykernel)",
   "language": "python",
   "name": "python3"
  },
  "language_info": {
   "codemirror_mode": {
    "name": "ipython",
    "version": 3
   },
   "file_extension": ".py",
   "mimetype": "text/x-python",
   "name": "python",
   "nbconvert_exporter": "python",
   "pygments_lexer": "ipython3",
   "version": "3.11.9"
  }
 },
 "nbformat": 4,
 "nbformat_minor": 4
}
