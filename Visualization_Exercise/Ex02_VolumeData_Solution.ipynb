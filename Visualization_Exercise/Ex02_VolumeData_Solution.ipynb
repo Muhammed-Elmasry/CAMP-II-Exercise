{
 "cells": [
  {
   "cell_type": "markdown",
   "metadata": {},
   "source": [
    "# Processing Volume and Mesh Data\n",
    "The goals for this exercise are:\n",
    "1. Reading volume data from a file\n",
    "2. Visualize the data and modify the rendering parameters\n",
    "3. Learn how to extract a mesh\n",
    "4. Learn how to separate the mesh (connected component analysis)\n",
    "5. Perform Mesh smoothing\n",
    "6. Analyze the smoothed results"
   ]
  },
  {
   "cell_type": "code",
   "execution_count": 2,
   "metadata": {},
   "outputs": [],
   "source": [
    "# basic importas needed for this exercise\n",
    "import vtk\n",
    "import pyvista as pv\n",
    "from pyvistaqt import BackgroundPlotter\n",
    "\n",
    "import numpy as np\n",
    "import matplotlib.pyplot as plt"
   ]
  },
  {
   "cell_type": "markdown",
   "metadata": {},
   "source": [
    "## 1. Reading Volume Data"
   ]
  },
  {
   "cell_type": "markdown",
   "metadata": {},
   "source": [
    "Reading Volume is performed by one of the many `Reader` classes in VTK, for example `vtkDICOMReader`, `vtkNIFIImageReader`, `vtkMetaImageReader`.\n",
    "\n",
    "![imagereaders](data/figures/ImageReaders.png)\n",
    " \n",
    "All of them have a `SetFileName` method to set a filename, and you can read the output as you want"
   ]
  },
  {
   "cell_type": "code",
   "execution_count": 3,
   "metadata": {},
   "outputs": [],
   "source": [
    "fileName = 'data/foot128.nii.gz'"
   ]
  },
  {
   "cell_type": "markdown",
   "metadata": {},
   "source": [
    "Our file is a compressed NIFTI file, so we will use a `vtkNIFTIImageReader` to read it in!"
   ]
  },
  {
   "cell_type": "code",
   "execution_count": 4,
   "metadata": {},
   "outputs": [],
   "source": [
    "reader = vtk.vtkNIFTIImageReader()\n",
    "reader.SetFileName(fileName)"
   ]
  },
  {
   "cell_type": "markdown",
   "metadata": {},
   "source": [
    "Don't forget to call update, otherwise the components are only connected. \n",
    "Update has to be called specifically, to not automatically update everytime a single thing changes"
   ]
  },
  {
   "cell_type": "code",
   "execution_count": 5,
   "metadata": {},
   "outputs": [],
   "source": [
    "reader.Update()"
   ]
  },
  {
   "cell_type": "code",
   "execution_count": 6,
   "metadata": {},
   "outputs": [
    {
     "data": {
      "text/plain": [
       "<vtkmodules.vtkCommonDataModel.vtkImageData(0x7fd3ad83c880) at 0x108735fc0>"
      ]
     },
     "execution_count": 6,
     "metadata": {},
     "output_type": "execute_result"
    }
   ],
   "source": [
    "reader.GetOutput()"
   ]
  },
  {
   "cell_type": "code",
   "execution_count": 7,
   "metadata": {},
   "outputs": [],
   "source": [
    "image = pv.wrap(reader.GetOutput())"
   ]
  },
  {
   "cell_type": "code",
   "execution_count": 8,
   "metadata": {
    "tags": []
   },
   "outputs": [
    {
     "data": {
      "text/html": [
       "<table style='width: 100%;'><tr><th>Header</th><th>Data Arrays</th></tr><tr><td>\n",
       "<table style='width: 100%;'>\n",
       "<tr><th>ImageData</th><th>Information</th></tr>\n",
       "<tr><td>N Cells</td><td>2048383</td></tr>\n",
       "<tr><td>N Points</td><td>2097152</td></tr>\n",
       "<tr><td>X Bounds</td><td>0.000e+00, 1.270e+02</td></tr>\n",
       "<tr><td>Y Bounds</td><td>0.000e+00, 1.270e+02</td></tr>\n",
       "<tr><td>Z Bounds</td><td>0.000e+00, 1.270e+02</td></tr>\n",
       "<tr><td>Dimensions</td><td>128, 128, 128</td></tr>\n",
       "<tr><td>Spacing</td><td>1.000e+00, 1.000e+00, 1.000e+00</td></tr>\n",
       "<tr><td>N Arrays</td><td>1</td></tr>\n",
       "</table>\n",
       "\n",
       "</td><td>\n",
       "<table style='width: 100%;'>\n",
       "<tr><th>Name</th><th>Field</th><th>Type</th><th>N Comp</th><th>Min</th><th>Max</th></tr>\n",
       "<tr><td><b>NIFTI</b></td><td>Points</td><td>int16</td><td>1</td><td>0.000e+00</td><td>2.550e+02</td></tr>\n",
       "</table>\n",
       "\n",
       "</td></tr> </table>"
      ],
      "text/plain": [
       "ImageData (0x1244e4a00)\n",
       "  N Cells:      2048383\n",
       "  N Points:     2097152\n",
       "  X Bounds:     0.000e+00, 1.270e+02\n",
       "  Y Bounds:     0.000e+00, 1.270e+02\n",
       "  Z Bounds:     0.000e+00, 1.270e+02\n",
       "  Dimensions:   128, 128, 128\n",
       "  Spacing:      1.000e+00, 1.000e+00, 1.000e+00\n",
       "  N Arrays:     1"
      ]
     },
     "execution_count": 8,
     "metadata": {},
     "output_type": "execute_result"
    }
   ],
   "source": [
    "image"
   ]
  },
  {
   "cell_type": "code",
   "execution_count": null,
   "metadata": {},
   "outputs": [],
   "source": []
  },
  {
   "cell_type": "code",
   "execution_count": null,
   "metadata": {},
   "outputs": [],
   "source": []
  },
  {
   "cell_type": "code",
   "execution_count": null,
   "metadata": {},
   "outputs": [],
   "source": []
  },
  {
   "cell_type": "code",
   "execution_count": null,
   "metadata": {},
   "outputs": [],
   "source": []
  },
  {
   "cell_type": "code",
   "execution_count": null,
   "metadata": {},
   "outputs": [],
   "source": []
  },
  {
   "cell_type": "code",
   "execution_count": null,
   "metadata": {},
   "outputs": [],
   "source": []
  },
  {
   "cell_type": "markdown",
   "metadata": {},
   "source": [
    "## 2. Visualize Data"
   ]
  },
  {
   "cell_type": "markdown",
   "metadata": {},
   "source": [
    "Allright, so let's look at this!"
   ]
  },
  {
   "cell_type": "code",
   "execution_count": 8,
   "metadata": {},
   "outputs": [],
   "source": [
    "wnd = BackgroundPlotter()"
   ]
  },
  {
   "cell_type": "code",
   "execution_count": 9,
   "metadata": {},
   "outputs": [
    {
     "data": {
      "text/plain": [
       "<Volume(0x7fd9ba0d4c00) at 0x120f3ee60>"
      ]
     },
     "execution_count": 9,
     "metadata": {},
     "output_type": "execute_result"
    }
   ],
   "source": [
    "wnd.add_volume(image)"
   ]
  },
  {
   "cell_type": "code",
   "execution_count": 10,
   "metadata": {},
   "outputs": [],
   "source": [
    "wnd.clear()"
   ]
  },
  {
   "cell_type": "code",
   "execution_count": 11,
   "metadata": {},
   "outputs": [
    {
     "data": {
      "text/plain": [
       "<Volume(0x7fd9b99b5000) at 0x120f3ec20>"
      ]
     },
     "execution_count": 11,
     "metadata": {},
     "output_type": "execute_result"
    }
   ],
   "source": [
    "wnd.add_volume(image, clim=(35, 255), cmap='bone') # visualization as bone"
   ]
  },
  {
   "cell_type": "markdown",
   "metadata": {},
   "source": [
    "Create a customized opacity function - this is not really required but I left it here as an example."
   ]
  },
  {
   "cell_type": "code",
   "execution_count": 12,
   "metadata": {},
   "outputs": [],
   "source": [
    "opacity_tf=np.linspace(0.0, 1.0, 256)\n",
    "opacity_tf = 255.0*(opacity_tf ** 2.5)# + 16"
   ]
  },
  {
   "cell_type": "code",
   "execution_count": 13,
   "metadata": {},
   "outputs": [],
   "source": [
    "opacity_tf[0:5] = 0"
   ]
  },
  {
   "cell_type": "code",
   "execution_count": 14,
   "metadata": {},
   "outputs": [
    {
     "data": {
      "text/plain": [
       "[<matplotlib.lines.Line2D at 0x120fbddd0>]"
      ]
     },
     "execution_count": 14,
     "metadata": {},
     "output_type": "execute_result"
    },
    {
     "data": {
      "image/png": "[encoded data removed]",
      "text/plain": [
       "<Figure size 640x480 with 1 Axes>"
      ]
     },
     "metadata": {},
     "output_type": "display_data"
    }
   ],
   "source": [
    "plt.plot(opacity_tf)"
   ]
  },
  {
   "cell_type": "code",
   "execution_count": 15,
   "metadata": {},
   "outputs": [],
   "source": [
    "wnd.clear()\n",
    "vol_actor = wnd.add_volume(image, opacity=opacity_tf)"
   ]
  },
  {
   "cell_type": "markdown",
   "metadata": {},
   "source": [
    "Let's try change the transfer function! Look at https://kitware.github.io/vtk-examples/site/Python/VolumeRendering/SimpleRayCast/ to see an example!"
   ]
  },
  {
   "cell_type": "code",
   "execution_count": 16,
   "metadata": {},
   "outputs": [
    {
     "data": {
      "text/plain": [
       "4"
      ]
     },
     "execution_count": 16,
     "metadata": {},
     "output_type": "execute_result"
    }
   ],
   "source": [
    "# Create transfer mapping scalar value to color.\n",
    "colorTransferFunction = vtk.vtkColorTransferFunction()\n",
    "colorTransferFunction.AddRGBPoint(0.0, 1.0, 0.0, 0.0)\n",
    "colorTransferFunction.AddRGBPoint(64.0, 0.2, 0.0, 0.0)\n",
    "colorTransferFunction.AddRGBPoint(128.0, 0.0, 0.0, 1.0) # 20\n",
    "colorTransferFunction.AddRGBPoint(192.0, 0.0, 0.5, 0.0) # 60\n",
    "colorTransferFunction.AddRGBPoint(255.0, 0.0, 0.2, 0.0)"
   ]
  },
  {
   "cell_type": "code",
   "execution_count": 17,
   "metadata": {},
   "outputs": [
    {
     "data": {
      "text/plain": [
       "1"
      ]
     },
     "execution_count": 17,
     "metadata": {},
     "output_type": "execute_result"
    }
   ],
   "source": [
    "# Create transfer mapping scalar value to opacity.\n",
    "opacityTransferFunction = vtk.vtkPiecewiseFunction()\n",
    "opacityTransferFunction.AddPoint(30, 0.0)\n",
    "opacityTransferFunction.AddPoint(255, 0.2)"
   ]
  },
  {
   "cell_type": "code",
   "execution_count": 18,
   "metadata": {},
   "outputs": [],
   "source": [
    "volumeProperty = vtk.vtkVolumeProperty()\n",
    "volumeProperty.SetColor(colorTransferFunction)\n",
    "volumeProperty.SetScalarOpacity(opacityTransferFunction)\n",
    "volumeProperty.ShadeOff()\n",
    "volumeProperty.SetInterpolationTypeToLinear()"
   ]
  },
  {
   "cell_type": "code",
   "execution_count": 19,
   "metadata": {},
   "outputs": [],
   "source": [
    "vol_actor.SetProperty(volumeProperty)"
   ]
  },
  {
   "cell_type": "markdown",
   "metadata": {},
   "source": [
    "#### Just out of curiosity, let's try to plot the used color map\n",
    "> Again, completely unnecessary but left in here for reference"
   ]
  },
  {
   "cell_type": "code",
   "execution_count": 20,
   "metadata": {},
   "outputs": [],
   "source": [
    "lin = np.linspace(0, 255, 255)"
   ]
  },
  {
   "cell_type": "code",
   "execution_count": 21,
   "metadata": {},
   "outputs": [],
   "source": [
    "ramp = []\n",
    "for v in lin:\n",
    "    ramp.append(colorTransferFunction.GetColor(v))"
   ]
  },
  {
   "cell_type": "code",
   "execution_count": 22,
   "metadata": {},
   "outputs": [],
   "source": [
    "ramp = np.array([ramp])"
   ]
  },
  {
   "cell_type": "code",
   "execution_count": 23,
   "metadata": {},
   "outputs": [
    {
     "data": {
      "text/plain": [
       "<matplotlib.image.AxesImage at 0x120fbf490>"
      ]
     },
     "execution_count": 23,
     "metadata": {},
     "output_type": "execute_result"
    },
    {
     "data": {
      "image/png": "[encoded data removed]",
      "text/plain": [
       "<Figure size 640x480 with 1 Axes>"
      ]
     },
     "metadata": {},
     "output_type": "display_data"
    }
   ],
   "source": [
    "plt.imshow(ramp)"
   ]
  },
  {
   "cell_type": "markdown",
   "metadata": {},
   "source": [
    "Ok this is just an image consisting of a single line - repeat it to increase visibility"
   ]
  },
  {
   "cell_type": "code",
   "execution_count": 24,
   "metadata": {},
   "outputs": [
    {
     "data": {
      "text/plain": [
       "<matplotlib.image.AxesImage at 0x13d35cd90>"
      ]
     },
     "execution_count": 24,
     "metadata": {},
     "output_type": "execute_result"
    },
    {
     "data": {
      "image/png": "[encoded data removed]",
      "text/plain": [
       "<Figure size 640x480 with 1 Axes>"
      ]
     },
     "metadata": {},
     "output_type": "display_data"
    }
   ],
   "source": [
    "plt.imshow(np.repeat(ramp, 100, axis=0))"
   ]
  },
  {
   "cell_type": "code",
   "execution_count": null,
   "metadata": {},
   "outputs": [],
   "source": []
  },
  {
   "cell_type": "code",
   "execution_count": null,
   "metadata": {},
   "outputs": [],
   "source": []
  },
  {
   "cell_type": "code",
   "execution_count": 24,
   "metadata": {},
   "outputs": [],
   "source": [
    "# ~~~ I wonder what's going to happen next.. maybe segmentation?! ~~~"
   ]
  },
  {
   "cell_type": "code",
   "execution_count": null,
   "metadata": {},
   "outputs": [],
   "source": []
  },
  {
   "cell_type": "code",
   "execution_count": null,
   "metadata": {},
   "outputs": [],
   "source": []
  },
  {
   "cell_type": "markdown",
   "metadata": {},
   "source": [
    "## 3. Mesh Segmentation\n",
    "Segmentation can be performed using the marching cubes algorithm introduced in the lecture.\n",
    "VTK implements this algorithm in the [`vtkMarchingCubes`](https://vtk.org/doc/nightly/html/classvtkMarchingCubes.html#afd541e392d09571aac3a58ac2abee287) class."
   ]
  },
  {
   "cell_type": "code",
   "execution_count": 44,
   "metadata": {},
   "outputs": [],
   "source": [
    "wnd = BackgroundPlotter()"
   ]
  },
  {
   "cell_type": "code",
   "execution_count": 9,
   "metadata": {},
   "outputs": [],
   "source": [
    "boneExtractor = vtk.vtkMarchingCubes()\n",
    "boneExtractor.SetInputConnection(reader.GetOutputPort())\n",
    "boneExtractor.SetValue(0, 70)\n",
    "boneExtractor.Update()"
   ]
  },
  {
   "cell_type": "code",
   "execution_count": 46,
   "metadata": {},
   "outputs": [
    {
     "data": {
      "text/html": [
       "<table style='width: 100%;'><tr><th>Header</th><th>Data Arrays</th></tr><tr><td>\n",
       "<table style='width: 100%;'>\n",
       "<tr><th>PolyData</th><th>Information</th></tr>\n",
       "<tr><td>N Cells</td><td>137183</td></tr>\n",
       "<tr><td>N Points</td><td>69161</td></tr>\n",
       "<tr><td>N Strips</td><td>0</td></tr>\n",
       "<tr><td>X Bounds</td><td>1.858e+01, 1.090e+02</td></tr>\n",
       "<tr><td>Y Bounds</td><td>0.000e+00, 1.183e+02</td></tr>\n",
       "<tr><td>Z Bounds</td><td>3.167e+00, 1.195e+02</td></tr>\n",
       "<tr><td>N Arrays</td><td>2</td></tr>\n",
       "</table>\n",
       "\n",
       "</td><td>\n",
       "<table style='width: 100%;'>\n",
       "<tr><th>Name</th><th>Field</th><th>Type</th><th>N Comp</th><th>Min</th><th>Max</th></tr>\n",
       "<tr><td><b>Unnamed_0</b></td><td>Points</td><td>float32</td><td>1</td><td>7.000e+01</td><td>7.000e+01</td></tr>\n",
       "<tr><td>Unnamed_1</td><td>Points</td><td>float32</td><td>3</td><td>-1.000e+00</td><td>1.000e+00</td></tr>\n",
       "</table>\n",
       "\n",
       "</td></tr> </table>"
      ],
      "text/plain": [
       "PolyData (0x121031d80)\n",
       "  N Cells:    137183\n",
       "  N Points:   69161\n",
       "  N Strips:   0\n",
       "  X Bounds:   1.858e+01, 1.090e+02\n",
       "  Y Bounds:   0.000e+00, 1.183e+02\n",
       "  Z Bounds:   3.167e+00, 1.195e+02\n",
       "  N Arrays:   2"
      ]
     },
     "execution_count": 46,
     "metadata": {},
     "output_type": "execute_result"
    }
   ],
   "source": [
    "pv.wrap(boneExtractor.GetOutput())"
   ]
  },
  {
   "cell_type": "markdown",
   "metadata": {},
   "source": [
    "Vtk internally needs to convert the generic poly data to something that can be rendered - namely a set of triangles.\n",
    "\n",
    "The [`vtkStripper`](https://vtk.org/doc/nightly/html/classvtkStripper.html) class creates triangle strips or poly line strips from a generic `vtkPolyData` object for performance reasons. A [`vtkPolyDataMapper`](https://vtk.org/doc/nightly/html/classvtkPolyDataMapper.html) is needed to map the poly data to the GPU. From the output of the mapper, we can then create a `vtkActor` object that can be attached to the renderer."
   ]
  },
  {
   "cell_type": "code",
   "execution_count": 10,
   "metadata": {},
   "outputs": [],
   "source": [
    "boneStripper = vtk.vtkStripper()\n",
    "boneStripper.SetInputConnection(boneExtractor.GetOutputPort())\n",
    "\n",
    "boneMapper = vtk.vtkPolyDataMapper()\n",
    "boneMapper.SetInputConnection(boneStripper.GetOutputPort())\n",
    "boneMapper.ScalarVisibilityOff()"
   ]
  },
  {
   "cell_type": "code",
   "execution_count": 11,
   "metadata": {},
   "outputs": [],
   "source": [
    "bone = vtk.vtkActor()\n",
    "bone.SetMapper(boneMapper)\n",
    "colors = vtk.vtkNamedColors()\n",
    "bone.GetProperty().SetDiffuseColor(colors.GetColor3d(\"Ivory\"))"
   ]
  },
  {
   "cell_type": "code",
   "execution_count": 49,
   "metadata": {},
   "outputs": [
    {
     "data": {
      "text/plain": [
       "(<vtkmodules.vtkRenderingOpenGL2.vtkOpenGLActor(0x7fd9b8cfbcc0) at 0x13d343e80>,\n",
       " <vtkmodules.vtkRenderingOpenGL2.vtkOpenGLProperty(0x7fd9b8cfc8e0) at 0x120f3df00>)"
      ]
     },
     "execution_count": 49,
     "metadata": {},
     "output_type": "execute_result"
    }
   ],
   "source": [
    "wnd.add_actor(bone, reset_camera=True)"
   ]
  },
  {
   "cell_type": "code",
   "execution_count": 12,
   "metadata": {},
   "outputs": [],
   "source": [
    "boneExtractor.SetValue(0, 12)"
   ]
  },
  {
   "cell_type": "code",
   "execution_count": 13,
   "metadata": {},
   "outputs": [],
   "source": [
    "boneExtractor.SetValue(0, 70)"
   ]
  },
  {
   "cell_type": "code",
   "execution_count": 34,
   "metadata": {},
   "outputs": [],
   "source": []
  },
  {
   "cell_type": "markdown",
   "metadata": {},
   "source": [
    "We can also add a slice to the rendering very easily"
   ]
  },
  {
   "cell_type": "code",
   "execution_count": 53,
   "metadata": {},
   "outputs": [],
   "source": [
    "bwLut = vtk.vtkLookupTable()\n",
    "bwLut.SetTableRange(0, 255)\n",
    "bwLut.SetSaturationRange(0, 0)\n",
    "bwLut.SetHueRange(0, 0)\n",
    "bwLut.SetValueRange(0, 1)\n",
    "bwLut.Build()  # effective built\n",
    "    \n",
    "sagittalColors = vtk.vtkImageMapToColors()\n",
    "sagittalColors.SetInputConnection(reader.GetOutputPort())\n",
    "sagittalColors.SetLookupTable(bwLut)\n",
    "sagittalColors.Update()"
   ]
  },
  {
   "cell_type": "code",
   "execution_count": 54,
   "metadata": {},
   "outputs": [],
   "source": [
    "sagittal = vtk.vtkImageActor()\n",
    "sagittal.GetMapper().SetInputConnection(sagittalColors.GetOutputPort())"
   ]
  },
  {
   "cell_type": "code",
   "execution_count": 55,
   "metadata": {},
   "outputs": [],
   "source": [
    "sag_slice = 64\n",
    "sagittal.SetDisplayExtent(sag_slice, sag_slice,0,127,0,127)"
   ]
  },
  {
   "cell_type": "code",
   "execution_count": 56,
   "metadata": {},
   "outputs": [
    {
     "data": {
      "text/plain": [
       "(<vtkmodules.vtkRenderingCore.vtkImageActor(0x7fd9c25be050) at 0x13aa39f60>,\n",
       " <vtkmodules.vtkRenderingCore.vtkImageProperty(0x600002a6c820) at 0x105c5e980>)"
      ]
     },
     "execution_count": 56,
     "metadata": {},
     "output_type": "execute_result"
    }
   ],
   "source": [
    "wnd.add_actor(sagittal)"
   ]
  },
  {
   "cell_type": "code",
   "execution_count": 57,
   "metadata": {},
   "outputs": [],
   "source": [
    "sagittal.SetDisplayExtent(0, 200, 0, 127, 0, 127)"
   ]
  },
  {
   "cell_type": "code",
   "execution_count": 58,
   "metadata": {},
   "outputs": [],
   "source": [
    "bwLut.SetTableRange(0,100)"
   ]
  },
  {
   "cell_type": "markdown",
   "metadata": {
    "tags": []
   },
   "source": [
    "### Bonus points - use an `ipywidgets.IntSlider` and `observe` to update the threshold interactively!"
   ]
  },
  {
   "cell_type": "code",
   "execution_count": 59,
   "metadata": {},
   "outputs": [],
   "source": [
    "import ipywidgets as widgets"
   ]
  },
  {
   "cell_type": "code",
   "execution_count": 60,
   "metadata": {},
   "outputs": [],
   "source": [
    "def update_val(v):\n",
    "    boneExtractor.SetValue(0, thresh_widget.value)"
   ]
  },
  {
   "cell_type": "code",
   "execution_count": 61,
   "metadata": {},
   "outputs": [
    {
     "data": {
      "application/vnd.jupyter.widget-view+json": {
       "model_id": "2ce85b1201ef4d3c81ee3fd934e4d918",
       "version_major": 2,
       "version_minor": 0
      },
      "text/plain": [
       "IntText(value=7, description='Threshold: ', step=10)"
      ]
     },
     "metadata": {},
     "output_type": "display_data"
    }
   ],
   "source": [
    "thresh_widget = widgets.IntText(value=7, description='Threshold: ', disabled=False, step=10)\n",
    "thresh_widget.observe(update_val, 'value')\n",
    "display(thresh_widget)"
   ]
  },
  {
   "cell_type": "markdown",
   "metadata": {},
   "source": [
    "## Separate the mesh into connected components"
   ]
  },
  {
   "cell_type": "markdown",
   "metadata": {
    "tags": []
   },
   "source": [
    "Our goal is now to extract the connected components of the mesh.\n",
    "\n",
    "See [ConnectivityFilter](https://vtk.org/doc/nightly/html/classvtkConnectivityFilter.html)"
   ]
  },
  {
   "cell_type": "code",
   "execution_count": 14,
   "metadata": {},
   "outputs": [],
   "source": [
    "connectivityFilter = vtk.vtkConnectivityFilter()\n",
    "connectivityFilter.SetInputConnection(boneExtractor.GetOutputPort())\n",
    "connectivityFilter.SetExtractionModeToAllRegions()\n",
    "connectivityFilter.ColorRegionsOn()\n",
    "connectivityFilter.Update()"
   ]
  },
  {
   "cell_type": "code",
   "execution_count": 15,
   "metadata": {},
   "outputs": [
    {
     "data": {
      "text/plain": [
       "Actor (0x1244e5900)\n",
       "  Center:                     (63.407050132751465, 59.16128921508789, 61.31862771511078)\n",
       "  Pickable:                   True\n",
       "  Position:                   (0.0, 0.0, 0.0)\n",
       "  Scale:                      (1.0, 1.0, 1.0)\n",
       "  Visible:                    True\n",
       "  X Bounds                    1.858E+01, 1.082E+02\n",
       "  Y Bounds                    0.000E+00, 1.183E+02\n",
       "  Z Bounds                    3.167E+00, 1.195E+02\n",
       "  User matrix:                Set\n",
       "  Has mapper:                 True\n",
       "\n",
       "Property (0x1244e6500)\n",
       "  Ambient:                     0.0\n",
       "  Ambient color:               Color(name='lightblue', hex='#add8e6ff', opacity=255)\n",
       "  Anisotropy:                  0.0\n",
       "  Color:                       Color(name='lightblue', hex='#add8e6ff', opacity=255)\n",
       "  Culling:                     \"none\"\n",
       "  Diffuse:                     1.0\n",
       "  Diffuse color:               Color(name='lightblue', hex='#add8e6ff', opacity=255)\n",
       "  Edge color:                  Color(name='black', hex='#000000ff', opacity=255)\n",
       "  Edge opacity:                1.0\n",
       "  Interpolation:               InterpolationType.FLAT\n",
       "  Lighting:                    True\n",
       "  Line width:                  1.0\n",
       "  Metallic:                    0.0\n",
       "  Opacity:                     1.0\n",
       "  Point size:                  5.0\n",
       "  Render lines as tubes:       False\n",
       "  Render points as spheres:    False\n",
       "  Roughness:                   0.5\n",
       "  Show edges:                  False\n",
       "  Specular:                    0.0\n",
       "  Specular color:              Color(name='lightblue', hex='#add8e6ff', opacity=255)\n",
       "  Specular power:              100.0\n",
       "  Style:                       \"Surface\"\n",
       "\n",
       "DataSetMapper (0x1244e6020)\n",
       "  Scalar visibility:           True\n",
       "  Scalar range:                (0.0, 138.0)\n",
       "  Interpolate before mapping:  True\n",
       "  Scalar map mode:             point\n",
       "  Color mode:                  map\n",
       "\n",
       "Attached dataset:\n",
       "PolyData (0x1244e60e0)\n",
       "  N Cells:    137183\n",
       "  N Points:   69107\n",
       "  N Strips:   0\n",
       "  X Bounds:   1.858e+01, 1.082e+02\n",
       "  Y Bounds:   0.000e+00, 1.183e+02\n",
       "  Z Bounds:   3.167e+00, 1.195e+02\n",
       "  N Arrays:   4"
      ]
     },
     "execution_count": 15,
     "metadata": {},
     "output_type": "execute_result"
    }
   ],
   "source": [
    "wnd = BackgroundPlotter()\n",
    "wnd.add_mesh(connectivityFilter.GetOutput())"
   ]
  },
  {
   "cell_type": "code",
   "execution_count": 16,
   "metadata": {},
   "outputs": [
    {
     "data": {
      "text/plain": [
       "<vtkmodules.vtkCommonDataModel.vtkPolyData(0x7fd3a4dc1b20) at 0x109302b60>"
      ]
     },
     "execution_count": 16,
     "metadata": {},
     "output_type": "execute_result"
    }
   ],
   "source": [
    "connectivityFilter.GetOutput()"
   ]
  },
  {
   "cell_type": "code",
   "execution_count": 20,
   "metadata": {},
   "outputs": [
    {
     "data": {
      "text/plain": [
       "(Actor (0x1244e4700)\n",
       "   Center:                     (58.07738018035889, 55.59375, 23.696236968040466)\n",
       "   Pickable:                   True\n",
       "   Position:                   (0.0, 0.0, 0.0)\n",
       "   Scale:                      (1.0, 1.0, 1.0)\n",
       "   Visible:                    True\n",
       "   X Bounds                    1.858E+01, 9.757E+01\n",
       "   Y Bounds                    0.000E+00, 1.112E+02\n",
       "   Z Bounds                    3.167E+00, 4.423E+01\n",
       "   User matrix:                Set\n",
       "   Has mapper:                 True\n",
       " \n",
       " Property (0x1244e5840)\n",
       "   Ambient:                     0.0\n",
       "   Ambient color:               Color(name='lightblue', hex='#add8e6ff', opacity=255)\n",
       "   Anisotropy:                  0.0\n",
       "   Color:                       Color(name='lightblue', hex='#add8e6ff', opacity=255)\n",
       "   Culling:                     \"none\"\n",
       "   Diffuse:                     1.0\n",
       "   Diffuse color:               Color(name='lightblue', hex='#add8e6ff', opacity=255)\n",
       "   Edge color:                  Color(name='black', hex='#000000ff', opacity=255)\n",
       "   Edge opacity:                1.0\n",
       "   Interpolation:               InterpolationType.FLAT\n",
       "   Lighting:                    True\n",
       "   Line width:                  1.0\n",
       "   Metallic:                    0.0\n",
       "   Opacity:                     1.0\n",
       "   Point size:                  5.0\n",
       "   Render lines as tubes:       False\n",
       "   Render points as spheres:    False\n",
       "   Roughness:                   0.5\n",
       "   Show edges:                  False\n",
       "   Specular:                    0.0\n",
       "   Specular color:              Color(name='lightblue', hex='#add8e6ff', opacity=255)\n",
       "   Specular power:              100.0\n",
       "   Style:                       \"Surface\"\n",
       " \n",
       " <vtkmodules.vtkRenderingCore.vtkDataSetMapper(0x7fd3aaf76fc0) at 0x1244e6140>,\n",
       " Property (0x1244e5840)\n",
       "   Ambient:                     0.0\n",
       "   Ambient color:               Color(name='lightblue', hex='#add8e6ff', opacity=255)\n",
       "   Anisotropy:                  0.0\n",
       "   Color:                       Color(name='lightblue', hex='#add8e6ff', opacity=255)\n",
       "   Culling:                     \"none\"\n",
       "   Diffuse:                     1.0\n",
       "   Diffuse color:               Color(name='lightblue', hex='#add8e6ff', opacity=255)\n",
       "   Edge color:                  Color(name='black', hex='#000000ff', opacity=255)\n",
       "   Edge opacity:                1.0\n",
       "   Interpolation:               InterpolationType.FLAT\n",
       "   Lighting:                    True\n",
       "   Line width:                  1.0\n",
       "   Metallic:                    0.0\n",
       "   Opacity:                     1.0\n",
       "   Point size:                  5.0\n",
       "   Render lines as tubes:       False\n",
       "   Render points as spheres:    False\n",
       "   Roughness:                   0.5\n",
       "   Show edges:                  False\n",
       "   Specular:                    0.0\n",
       "   Specular color:              Color(name='lightblue', hex='#add8e6ff', opacity=255)\n",
       "   Specular power:              100.0\n",
       "   Style:                       \"Surface\")"
      ]
     },
     "execution_count": 20,
     "metadata": {},
     "output_type": "execute_result"
    }
   ],
   "source": [
    "wnd = BackgroundPlotter()\n",
    "\n",
    "connectivityFilter.SetExtractionModeToLargestRegion()\n",
    "\n",
    "mapper = vtk.vtkDataSetMapper()\n",
    "mapper.SetInputConnection(connectivityFilter.GetOutputPort())\n",
    "mapper.Update()\n",
    "\n",
    "actor = vtk.vtkActor()\n",
    "actor.SetMapper(mapper)\n",
    "\n",
    "wnd.add_actor(mapper)"
   ]
  },
  {
   "cell_type": "markdown",
   "metadata": {},
   "source": [
    "## Mesh Smoothing\n",
    "\n",
    "See [`vtkSmoothPolyDataFilter`](https://vtk.org/doc/nightly/html/classvtkSmoothPolyDataFilter.html)"
   ]
  },
  {
   "cell_type": "code",
   "execution_count": 21,
   "metadata": {},
   "outputs": [],
   "source": [
    "smoothingFilter = vtk.vtkSmoothPolyDataFilter()"
   ]
  },
  {
   "cell_type": "code",
   "execution_count": 22,
   "metadata": {},
   "outputs": [],
   "source": [
    "smoothingFilter.SetInputConnection(connectivityFilter.GetOutputPort())\n",
    "smoothingFilter.SetRelaxationFactor(0.2)\n",
    "smoothingFilter.Update()"
   ]
  },
  {
   "cell_type": "code",
   "execution_count": 23,
   "metadata": {},
   "outputs": [
    {
     "data": {
      "text/plain": [
       "Actor (0x1244e76a0)\n",
       "  Center:                     (58.66114044189453, 55.341957092285156, 23.65778338909149)\n",
       "  Pickable:                   True\n",
       "  Position:                   (0.0, 0.0, 0.0)\n",
       "  Scale:                      (1.0, 1.0, 1.0)\n",
       "  Visible:                    True\n",
       "  X Bounds                    1.975E+01, 9.757E+01\n",
       "  Y Bounds                    0.000E+00, 1.107E+02\n",
       "  Z Bounds                    3.512E+00, 4.380E+01\n",
       "  User matrix:                Set\n",
       "  Has mapper:                 True\n",
       "\n",
       "Property (0x1244e6ec0)\n",
       "  Ambient:                     0.0\n",
       "  Ambient color:               Color(name='lightblue', hex='#add8e6ff', opacity=255)\n",
       "  Anisotropy:                  0.0\n",
       "  Color:                       Color(name='lightblue', hex='#add8e6ff', opacity=255)\n",
       "  Culling:                     \"none\"\n",
       "  Diffuse:                     1.0\n",
       "  Diffuse color:               Color(name='lightblue', hex='#add8e6ff', opacity=255)\n",
       "  Edge color:                  Color(name='black', hex='#000000ff', opacity=255)\n",
       "  Edge opacity:                1.0\n",
       "  Interpolation:               InterpolationType.FLAT\n",
       "  Lighting:                    True\n",
       "  Line width:                  1.0\n",
       "  Metallic:                    0.0\n",
       "  Opacity:                     1.0\n",
       "  Point size:                  5.0\n",
       "  Render lines as tubes:       False\n",
       "  Render points as spheres:    False\n",
       "  Roughness:                   0.5\n",
       "  Show edges:                  False\n",
       "  Specular:                    0.0\n",
       "  Specular color:              Color(name='lightblue', hex='#add8e6ff', opacity=255)\n",
       "  Specular power:              100.0\n",
       "  Style:                       \"Surface\"\n",
       "\n",
       "DataSetMapper (0x1244e6500)\n",
       "  Scalar visibility:           True\n",
       "  Scalar range:                (0.0, 138.0)\n",
       "  Interpolate before mapping:  True\n",
       "  Scalar map mode:             point\n",
       "  Color mode:                  map\n",
       "\n",
       "Attached dataset:\n",
       "PolyData (0x1244e7280)\n",
       "  N Cells:    50800\n",
       "  N Points:   69107\n",
       "  N Strips:   0\n",
       "  X Bounds:   1.975e+01, 1.082e+02\n",
       "  Y Bounds:   0.000e+00, 1.183e+02\n",
       "  Z Bounds:   3.512e+00, 1.195e+02\n",
       "  N Arrays:   4"
      ]
     },
     "execution_count": 23,
     "metadata": {},
     "output_type": "execute_result"
    }
   ],
   "source": [
    "wnd = BackgroundPlotter()\n",
    "wnd.add_mesh(smoothingFilter.GetOutput(), reset_camera=False)"
   ]
  },
  {
   "cell_type": "markdown",
   "metadata": {},
   "source": [
    "Now let's quantify our smoothing error by measuring the distance to the original! This cam be done using a [`vtkDistancePolyDataFilter`](https://vtk.org/doc/nightly/html/classvtkDistancePolyDataFilter.html)"
   ]
  },
  {
   "cell_type": "markdown",
   "metadata": {},
   "source": [
    "#### Curvature\n",
    "Computed with [`vtkCurvatures`](https://lorensen.github.io/VTKExamples/site/Cxx/PolyData/Curvatures/)"
   ]
  },
  {
   "cell_type": "code",
   "execution_count": 24,
   "metadata": {},
   "outputs": [],
   "source": [
    "wnd = BackgroundPlotter(shape=(2,1))"
   ]
  },
  {
   "cell_type": "code",
   "execution_count": 25,
   "metadata": {},
   "outputs": [],
   "source": [
    "curvFilt = vtk.vtkCurvatures()\n",
    "curvFilt.SetInputConnection(connectivityFilter.GetOutputPort())\n",
    "curvFilt.Update()"
   ]
  },
  {
   "cell_type": "markdown",
   "metadata": {},
   "source": [
    "clim and color map can be adjusted.\n",
    "\n",
    "The color maps can be adopted from [matplotlib color maps](https://matplotlib.org/stable/tutorials/colors/colormaps.html)."
   ]
  },
  {
   "cell_type": "code",
   "execution_count": 26,
   "metadata": {},
   "outputs": [
    {
     "data": {
      "text/plain": [
       "Actor (0x124568b20)\n",
       "  Center:                     (58.07738018035889, 55.59375, 23.696236968040466)\n",
       "  Pickable:                   True\n",
       "  Position:                   (0.0, 0.0, 0.0)\n",
       "  Scale:                      (1.0, 1.0, 1.0)\n",
       "  Visible:                    True\n",
       "  X Bounds                    1.858E+01, 9.757E+01\n",
       "  Y Bounds                    0.000E+00, 1.112E+02\n",
       "  Z Bounds                    3.167E+00, 4.423E+01\n",
       "  User matrix:                Set\n",
       "  Has mapper:                 True\n",
       "\n",
       "Property (0x124569000)\n",
       "  Ambient:                     0.0\n",
       "  Ambient color:               Color(name='lightblue', hex='#add8e6ff', opacity=255)\n",
       "  Anisotropy:                  0.0\n",
       "  Color:                       Color(name='lightblue', hex='#add8e6ff', opacity=255)\n",
       "  Culling:                     \"none\"\n",
       "  Diffuse:                     1.0\n",
       "  Diffuse color:               Color(name='lightblue', hex='#add8e6ff', opacity=255)\n",
       "  Edge color:                  Color(name='black', hex='#000000ff', opacity=255)\n",
       "  Edge opacity:                1.0\n",
       "  Interpolation:               InterpolationType.FLAT\n",
       "  Lighting:                    True\n",
       "  Line width:                  1.0\n",
       "  Metallic:                    0.0\n",
       "  Opacity:                     1.0\n",
       "  Point size:                  5.0\n",
       "  Render lines as tubes:       False\n",
       "  Render points as spheres:    False\n",
       "  Roughness:                   0.5\n",
       "  Show edges:                  False\n",
       "  Specular:                    0.0\n",
       "  Specular color:              Color(name='lightblue', hex='#add8e6ff', opacity=255)\n",
       "  Specular power:              100.0\n",
       "  Style:                       \"Surface\"\n",
       "\n",
       "DataSetMapper (0x124568940)\n",
       "  Scalar visibility:           True\n",
       "  Scalar range:                (-0.3, 0.3)\n",
       "  Interpolate before mapping:  True\n",
       "  Scalar map mode:             point\n",
       "  Color mode:                  map\n",
       "\n",
       "Attached dataset:\n",
       "PolyData (0x124568a00)\n",
       "  N Cells:    50800\n",
       "  N Points:   69107\n",
       "  N Strips:   0\n",
       "  X Bounds:   1.858e+01, 1.082e+02\n",
       "  Y Bounds:   0.000e+00, 1.183e+02\n",
       "  Z Bounds:   3.167e+00, 1.195e+02\n",
       "  N Arrays:   5"
      ]
     },
     "execution_count": 26,
     "metadata": {},
     "output_type": "execute_result"
    }
   ],
   "source": [
    "wnd.subplot(0, 0)\n",
    "wnd.add_mesh(curvFilt.GetOutput(), scalars='Gauss_Curvature', clim=(-0.3, 0.3), cmap='Spectral')"
   ]
  },
  {
   "cell_type": "code",
   "execution_count": 27,
   "metadata": {},
   "outputs": [
    {
     "data": {
      "text/plain": [
       "Actor (0x124568a00)\n",
       "  Center:                     (58.66114044189453, 55.341957092285156, 23.65778338909149)\n",
       "  Pickable:                   True\n",
       "  Position:                   (0.0, 0.0, 0.0)\n",
       "  Scale:                      (1.0, 1.0, 1.0)\n",
       "  Visible:                    True\n",
       "  X Bounds                    1.975E+01, 9.757E+01\n",
       "  Y Bounds                    0.000E+00, 1.107E+02\n",
       "  Z Bounds                    3.512E+00, 4.380E+01\n",
       "  User matrix:                Set\n",
       "  Has mapper:                 True\n",
       "\n",
       "Property (0x124568be0)\n",
       "  Ambient:                     0.0\n",
       "  Ambient color:               Color(name='lightblue', hex='#add8e6ff', opacity=255)\n",
       "  Anisotropy:                  0.0\n",
       "  Color:                       Color(name='lightblue', hex='#add8e6ff', opacity=255)\n",
       "  Culling:                     \"none\"\n",
       "  Diffuse:                     1.0\n",
       "  Diffuse color:               Color(name='lightblue', hex='#add8e6ff', opacity=255)\n",
       "  Edge color:                  Color(name='black', hex='#000000ff', opacity=255)\n",
       "  Edge opacity:                1.0\n",
       "  Interpolation:               InterpolationType.FLAT\n",
       "  Lighting:                    True\n",
       "  Line width:                  1.0\n",
       "  Metallic:                    0.0\n",
       "  Opacity:                     1.0\n",
       "  Point size:                  5.0\n",
       "  Render lines as tubes:       False\n",
       "  Render points as spheres:    False\n",
       "  Roughness:                   0.5\n",
       "  Show edges:                  False\n",
       "  Specular:                    0.0\n",
       "  Specular color:              Color(name='lightblue', hex='#add8e6ff', opacity=255)\n",
       "  Specular power:              100.0\n",
       "  Style:                       \"Surface\"\n",
       "\n",
       "DataSetMapper (0x124568a60)\n",
       "  Scalar visibility:           True\n",
       "  Scalar range:                (-0.3, 0.3)\n",
       "  Interpolate before mapping:  True\n",
       "  Scalar map mode:             point\n",
       "  Color mode:                  map\n",
       "\n",
       "Attached dataset:\n",
       "PolyData (0x124568ac0)\n",
       "  N Cells:    50800\n",
       "  N Points:   69107\n",
       "  N Strips:   0\n",
       "  X Bounds:   1.975e+01, 1.082e+02\n",
       "  Y Bounds:   0.000e+00, 1.183e+02\n",
       "  Z Bounds:   3.512e+00, 1.195e+02\n",
       "  N Arrays:   5"
      ]
     },
     "execution_count": 27,
     "metadata": {},
     "output_type": "execute_result"
    }
   ],
   "source": [
    "wnd.subplot(1, 0)\n",
    "curvFilt.SetInputConnection(smoothingFilter.GetOutputPort())\n",
    "curvFilt.Update()\n",
    "wnd.add_mesh(curvFilt.GetOutput(), scalars='Gauss_Curvature', clim=(-0.3, 0.3), cmap='Spectral')"
   ]
  },
  {
   "cell_type": "markdown",
   "metadata": {},
   "source": [
    "#### Mesh Distance"
   ]
  },
  {
   "cell_type": "code",
   "execution_count": 28,
   "metadata": {},
   "outputs": [],
   "source": [
    "distanceFilter = vtk.vtkDistancePolyDataFilter()\n",
    "distanceFilter.SetInputConnection( 0, smoothingFilter.GetOutputPort() )\n",
    "distanceFilter.SetInputConnection( 1, connectivityFilter.GetOutputPort() )\n",
    "distanceFilter.Update();"
   ]
  },
  {
   "cell_type": "markdown",
   "metadata": {},
   "source": [
    "Don't forget to use an appropriate [Colormap](https://matplotlib.org/3.2.1/tutorials/colors/colormaps.html)!"
   ]
  },
  {
   "cell_type": "code",
   "execution_count": 29,
   "metadata": {},
   "outputs": [
    {
     "data": {
      "text/plain": [
       "Actor (0x124569300)\n",
       "  Center:                     (58.66114044189453, 55.341957092285156, 23.65778338909149)\n",
       "  Pickable:                   True\n",
       "  Position:                   (0.0, 0.0, 0.0)\n",
       "  Scale:                      (1.0, 1.0, 1.0)\n",
       "  Visible:                    True\n",
       "  X Bounds                    1.975E+01, 9.757E+01\n",
       "  Y Bounds                    0.000E+00, 1.107E+02\n",
       "  Z Bounds                    3.512E+00, 4.380E+01\n",
       "  User matrix:                Set\n",
       "  Has mapper:                 True\n",
       "\n",
       "Property (0x1245697e0)\n",
       "  Ambient:                     0.0\n",
       "  Ambient color:               Color(name='lightblue', hex='#add8e6ff', opacity=255)\n",
       "  Anisotropy:                  0.0\n",
       "  Color:                       Color(name='lightblue', hex='#add8e6ff', opacity=255)\n",
       "  Culling:                     \"none\"\n",
       "  Diffuse:                     1.0\n",
       "  Diffuse color:               Color(name='lightblue', hex='#add8e6ff', opacity=255)\n",
       "  Edge color:                  Color(name='black', hex='#000000ff', opacity=255)\n",
       "  Edge opacity:                1.0\n",
       "  Interpolation:               InterpolationType.FLAT\n",
       "  Lighting:                    True\n",
       "  Line width:                  1.0\n",
       "  Metallic:                    0.0\n",
       "  Opacity:                     1.0\n",
       "  Point size:                  5.0\n",
       "  Render lines as tubes:       False\n",
       "  Render points as spheres:    False\n",
       "  Roughness:                   0.5\n",
       "  Show edges:                  False\n",
       "  Specular:                    0.0\n",
       "  Specular color:              Color(name='lightblue', hex='#add8e6ff', opacity=255)\n",
       "  Specular power:              100.0\n",
       "  Style:                       \"Surface\"\n",
       "\n",
       "DataSetMapper (0x124569180)\n",
       "  Scalar visibility:           True\n",
       "  Scalar range:                (-1.0, 1.0)\n",
       "  Interpolate before mapping:  True\n",
       "  Scalar map mode:             point\n",
       "  Color mode:                  map\n",
       "\n",
       "Attached dataset:\n",
       "PolyData (0x1244e61a0)\n",
       "  N Cells:    50800\n",
       "  N Points:   69107\n",
       "  N Strips:   0\n",
       "  X Bounds:   1.975e+01, 1.082e+02\n",
       "  Y Bounds:   0.000e+00, 1.183e+02\n",
       "  Z Bounds:   3.512e+00, 1.195e+02\n",
       "  N Arrays:   6"
      ]
     },
     "execution_count": 29,
     "metadata": {},
     "output_type": "execute_result"
    }
   ],
   "source": [
    "distance_result = pv.wrap(distanceFilter.GetOutput())\n",
    "distance_result.set_active_scalars('Distance')\n",
    "\n",
    "wnd = BackgroundPlotter()\n",
    "wnd.add_mesh(distance_result, cmap='Spectral', clim=(-1, 1))"
   ]
  },
  {
   "cell_type": "code",
   "execution_count": 31,
   "metadata": {},
   "outputs": [
    {
     "data": {
      "text/html": [
       "<table style='width: 100%;'><tr><th>Header</th><th>Data Arrays</th></tr><tr><td>\n",
       "<table style='width: 100%;'>\n",
       "<tr><th>PolyData</th><th>Information</th></tr>\n",
       "<tr><td>N Cells</td><td>50800</td></tr>\n",
       "<tr><td>N Points</td><td>69107</td></tr>\n",
       "<tr><td>N Strips</td><td>0</td></tr>\n",
       "<tr><td>X Bounds</td><td>1.975e+01, 1.082e+02</td></tr>\n",
       "<tr><td>Y Bounds</td><td>0.000e+00, 1.183e+02</td></tr>\n",
       "<tr><td>Z Bounds</td><td>3.512e+00, 1.195e+02</td></tr>\n",
       "<tr><td>N Arrays</td><td>6</td></tr>\n",
       "</table>\n",
       "\n",
       "</td><td>\n",
       "<table style='width: 100%;'>\n",
       "<tr><th>Name</th><th>Field</th><th>Type</th><th>N Comp</th><th>Min</th><th>Max</th></tr>\n",
       "<tr><td>Unnamed_0</td><td>Points</td><td>float32</td><td>1</td><td>7.000e+01</td><td>7.000e+01</td></tr>\n",
       "<tr><td>Unnamed_1</td><td>Points</td><td>float32</td><td>3</td><td>-1.000e+00</td><td>1.000e+00</td></tr>\n",
       "<tr><td>RegionId</td><td>Points</td><td>int64</td><td>1</td><td>0.000e+00</td><td>1.380e+02</td></tr>\n",
       "<tr><td><b>Distance</b></td><td>Points</td><td>float64</td><td>1</td><td>-4.431e+00</td><td>8.550e+01</td></tr>\n",
       "<tr><td>RegionId</td><td>Cells</td><td>int64</td><td>1</td><td>0.000e+00</td><td>1.380e+02</td></tr>\n",
       "<tr><td><b>Distance</b></td><td>Cells</td><td>float64</td><td>1</td><td>-9.069e-01</td><td>9.055e-01</td></tr>\n",
       "</table>\n",
       "\n",
       "</td></tr> </table>"
      ],
      "text/plain": [
       "PolyData (0x12456bf40)\n",
       "  N Cells:    50800\n",
       "  N Points:   69107\n",
       "  N Strips:   0\n",
       "  X Bounds:   1.975e+01, 1.082e+02\n",
       "  Y Bounds:   0.000e+00, 1.183e+02\n",
       "  Z Bounds:   3.512e+00, 1.195e+02\n",
       "  N Arrays:   6"
      ]
     },
     "execution_count": 31,
     "metadata": {},
     "output_type": "execute_result"
    }
   ],
   "source": [
    "distance_data = pv.wrap(distanceFilter.GetOutput())\n",
    "distance_data"
   ]
  },
  {
   "cell_type": "markdown",
   "metadata": {},
   "source": [
    "### Further analysis of the distance data"
   ]
  },
  {
   "cell_type": "code",
   "execution_count": 32,
   "metadata": {},
   "outputs": [],
   "source": [
    "distances = distance_data.get_array('Distance', preference='point')"
   ]
  },
  {
   "cell_type": "code",
   "execution_count": 33,
   "metadata": {},
   "outputs": [],
   "source": [
    "from matplotlib import pyplot as plt"
   ]
  },
  {
   "cell_type": "code",
   "execution_count": 34,
   "metadata": {},
   "outputs": [
    {
     "data": {
      "image/png": "[encoded data removed]",
      "text/plain": [
       "<Figure size 640x480 with 1 Axes>"
      ]
     },
     "metadata": {},
     "output_type": "display_data"
    }
   ],
   "source": [
    "H = plt.hist(distances, bins=25)"
   ]
  },
  {
   "cell_type": "markdown",
   "metadata": {},
   "source": [
    "### A better Smoothing filter: Taubin Smoothing (aka `WindowedSincPolyDataFilter`)"
   ]
  },
  {
   "cell_type": "markdown",
   "metadata": {},
   "source": [
    "Laplacian smoothing has a problem with high number of iterations - it causes geometry to shrink as it converges to the centroid after a high number of iterations:"
   ]
  },
  {
   "cell_type": "code",
   "execution_count": 35,
   "metadata": {},
   "outputs": [
    {
     "data": {
      "text/plain": [
       "Actor (0x124605c00)\n",
       "  Center:                     (58.07738018035889, 55.59375, 23.696236968040466)\n",
       "  Pickable:                   True\n",
       "  Position:                   (0.0, 0.0, 0.0)\n",
       "  Scale:                      (1.0, 1.0, 1.0)\n",
       "  Visible:                    True\n",
       "  X Bounds                    1.858E+01, 9.757E+01\n",
       "  Y Bounds                    0.000E+00, 1.112E+02\n",
       "  Z Bounds                    3.167E+00, 4.423E+01\n",
       "  User matrix:                Set\n",
       "  Has mapper:                 True\n",
       "\n",
       "Property (0x1688da380)\n",
       "  Ambient:                     0.0\n",
       "  Ambient color:               Color(name='ivory', hex='#fffff0ff', opacity=255)\n",
       "  Anisotropy:                  0.0\n",
       "  Color:                       Color(name='ivory', hex='#fffff0ff', opacity=255)\n",
       "  Culling:                     \"none\"\n",
       "  Diffuse:                     1.0\n",
       "  Diffuse color:               Color(name='ivory', hex='#fffff0ff', opacity=255)\n",
       "  Edge color:                  Color(name='black', hex='#000000ff', opacity=255)\n",
       "  Edge opacity:                1.0\n",
       "  Interpolation:               InterpolationType.FLAT\n",
       "  Lighting:                    True\n",
       "  Line width:                  1.0\n",
       "  Metallic:                    0.0\n",
       "  Opacity:                     1.0\n",
       "  Point size:                  5.0\n",
       "  Render lines as tubes:       False\n",
       "  Render points as spheres:    False\n",
       "  Roughness:                   0.5\n",
       "  Show edges:                  False\n",
       "  Specular:                    0.0\n",
       "  Specular color:              Color(name='ivory', hex='#fffff0ff', opacity=255)\n",
       "  Specular power:              100.0\n",
       "  Style:                       \"Surface\"\n",
       "\n",
       "DataSetMapper (0x1688d9a20)\n",
       "  Scalar visibility:           False\n",
       "  Scalar range:                (0.0, 1.0)\n",
       "  Interpolate before mapping:  True\n",
       "  Scalar map mode:             default\n",
       "  Color mode:                  direct\n",
       "\n",
       "Attached dataset:\n",
       "PolyData (0x1688b7f40)\n",
       "  N Cells:    50800\n",
       "  N Points:   69107\n",
       "  N Strips:   0\n",
       "  X Bounds:   1.858e+01, 1.082e+02\n",
       "  Y Bounds:   0.000e+00, 1.183e+02\n",
       "  Z Bounds:   3.167e+00, 1.195e+02\n",
       "  N Arrays:   4"
      ]
     },
     "execution_count": 35,
     "metadata": {},
     "output_type": "execute_result"
    }
   ],
   "source": [
    "smoothingFilter.SetNumberOfIterations(1000)\n",
    "smoothingFilter.SetConvergence(0.001)\n",
    "smoothingFilter.SetBoundarySmoothing(False)\n",
    "smoothingFilter.Update()\n",
    "\n",
    "wnd = BackgroundPlotter(shape=(2,1))\n",
    "wnd.subplot(0,0)\n",
    "wnd.add_mesh(smoothingFilter.GetOutput(), color='Ivory')\n",
    "wnd.subplot(1,0)\n",
    "wnd.add_mesh(connectivityFilter.GetOutput(), color='Ivory')"
   ]
  },
  {
   "cell_type": "markdown",
   "metadata": {},
   "source": [
    "Taubin smoothing implements a more optimal filter: \n",
    "\n",
    "VTK implements it in [vtkWindowedSincPolyDataFilter](https://vtk.org/doc/nightly/html/classvtkWindowedSincPolyDataFilter.html).\n",
    "\n",
    "The most important parameters are `NumberOfIterations` and `PassBand` ~= 0.1"
   ]
  },
  {
   "cell_type": "code",
   "execution_count": 36,
   "metadata": {},
   "outputs": [],
   "source": [
    "windowedSincFilter = vtk.vtkWindowedSincPolyDataFilter()"
   ]
  },
  {
   "cell_type": "code",
   "execution_count": 37,
   "metadata": {},
   "outputs": [],
   "source": [
    "windowedSincFilter.SetInputConnection(connectivityFilter.GetOutputPort())\n",
    "windowedSincFilter.SetNumberOfIterations(1000)\n",
    "windowedSincFilter.SetPassBand(0.1)\n",
    "windowedSincFilter.Update()"
   ]
  },
  {
   "cell_type": "code",
   "execution_count": 38,
   "metadata": {},
   "outputs": [
    {
     "data": {
      "text/plain": [
       "Actor (0x108458520)\n",
       "  Center:                     (58.713157653808594, 55.392311096191406, 23.756874680519104)\n",
       "  Pickable:                   True\n",
       "  Position:                   (0.0, 0.0, 0.0)\n",
       "  Scale:                      (1.0, 1.0, 1.0)\n",
       "  Visible:                    True\n",
       "  X Bounds                    1.984E+01, 9.758E+01\n",
       "  Y Bounds                    0.000E+00, 1.108E+02\n",
       "  Z Bounds                    3.277E+00, 4.424E+01\n",
       "  User matrix:                Set\n",
       "  Has mapper:                 True\n",
       "\n",
       "Property (0x124568a60)\n",
       "  Ambient:                     0.0\n",
       "  Ambient color:               Color(name='ivory', hex='#fffff0ff', opacity=255)\n",
       "  Anisotropy:                  0.0\n",
       "  Color:                       Color(name='ivory', hex='#fffff0ff', opacity=255)\n",
       "  Culling:                     \"none\"\n",
       "  Diffuse:                     1.0\n",
       "  Diffuse color:               Color(name='ivory', hex='#fffff0ff', opacity=255)\n",
       "  Edge color:                  Color(name='black', hex='#000000ff', opacity=255)\n",
       "  Edge opacity:                1.0\n",
       "  Interpolation:               InterpolationType.FLAT\n",
       "  Lighting:                    True\n",
       "  Line width:                  1.0\n",
       "  Metallic:                    0.0\n",
       "  Opacity:                     1.0\n",
       "  Point size:                  5.0\n",
       "  Render lines as tubes:       False\n",
       "  Render points as spheres:    False\n",
       "  Roughness:                   0.5\n",
       "  Show edges:                  False\n",
       "  Specular:                    0.0\n",
       "  Specular color:              Color(name='ivory', hex='#fffff0ff', opacity=255)\n",
       "  Specular power:              100.0\n",
       "  Style:                       \"Surface\"\n",
       "\n",
       "DataSetMapper (0x1084584c0)\n",
       "  Scalar visibility:           False\n",
       "  Scalar range:                (0.0, 1.0)\n",
       "  Interpolate before mapping:  True\n",
       "  Scalar map mode:             default\n",
       "  Color mode:                  direct\n",
       "\n",
       "Attached dataset:\n",
       "PolyData (0x108734460)\n",
       "  N Cells:    50800\n",
       "  N Points:   69107\n",
       "  N Strips:   0\n",
       "  X Bounds:   1.984e+01, 1.082e+02\n",
       "  Y Bounds:   0.000e+00, 1.183e+02\n",
       "  Z Bounds:   3.277e+00, 1.195e+02\n",
       "  N Arrays:   4"
      ]
     },
     "execution_count": 38,
     "metadata": {},
     "output_type": "execute_result"
    },
    {
     "name": "stderr",
     "output_type": "stream",
     "text": [
      "Task was destroyed but it is pending!\n",
      "task: <Task pending name='Task-2' coro=<Kernel.poll_control_queue() running at /Users/michaelsommersperger/anaconda3/envs/CAMP2_Visualization_Exercise/lib/python3.11/site-packages/ipykernel/kernelbase.py:296> wait_for=<Future finished result=<Future at 0x...state=pending>> cb=[_chain_future.<locals>._call_set_state() at /Users/michaelsommersperger/anaconda3/envs/CAMP2_Visualization_Exercise/lib/python3.11/asyncio/futures.py:394]>\n"
     ]
    }
   ],
   "source": [
    "wnd = BackgroundPlotter(shape=(2,1))\n",
    "wnd.subplot(0,0)\n",
    "wnd.add_mesh(smoothingFilter.GetOutput(), color='Ivory')\n",
    "wnd.subplot(1,0)\n",
    "wnd.add_mesh(windowedSincFilter.GetOutput(), color='Ivory')"
   ]
  },
  {
   "cell_type": "code",
   "execution_count": null,
   "metadata": {},
   "outputs": [],
   "source": []
  }
 ],
 "metadata": {
  "kernelspec": {
   "display_name": "Python 3 (ipykernel)",
   "language": "python",
   "name": "python3"
  },
  "language_info": {
   "codemirror_mode": {
    "name": "ipython",
    "version": 3
   },
   "file_extension": ".py",
   "mimetype": "text/x-python",
   "name": "python",
   "nbconvert_exporter": "python",
   "pygments_lexer": "ipython3",
   "version": "3.11.9"
  }
 },
 "nbformat": 4,
 "nbformat_minor": 4
}
